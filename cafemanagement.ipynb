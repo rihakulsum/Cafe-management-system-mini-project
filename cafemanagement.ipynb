{
 "cells": [
  {
   "cell_type": "code",
   "execution_count": 1,
   "id": "4a3ee942-5997-445e-869d-030de0e1fb8d",
   "metadata": {},
   "outputs": [
    {
     "name": "stdout",
     "output_type": "stream",
     "text": [
      "WELCOME TO BCA CAFE\n",
      "Dosa                 - 120\n",
      "Tea                  - 15\n",
      "Coffee               - 20\n",
      "Idli                 - 50\n",
      "vada                 - 40\n"
     ]
    },
    {
     "name": "stdout",
     "output_type": "stream",
     "text": [
      "please enter the item or type DONE at END:  Tea\n",
      "enter quantity:  2\n",
      "please enter the item or type DONE at END:  Doda\n"
     ]
    },
    {
     "name": "stdout",
     "output_type": "stream",
     "text": [
      "please enter correct item:\n"
     ]
    },
    {
     "name": "stdout",
     "output_type": "stream",
     "text": [
      "please enter the item or type DONE at END:  Dosa\n",
      "enter quantity:  1\n",
      "please enter the item or type DONE at END:  Done\n"
     ]
    },
    {
     "name": "stdout",
     "output_type": "stream",
     "text": [
      "please enter correct item:\n"
     ]
    },
    {
     "name": "stdout",
     "output_type": "stream",
     "text": [
      "please enter the item or type DONE at END:  DONE\n"
     ]
    },
    {
     "name": "stdout",
     "output_type": "stream",
     "text": [
      "Tea       \t,2\t,30\n",
      "Dosa      \t,1\t,120\n",
      "Your bill = 150\n",
      "Bill with GST = 177.0\n"
     ]
    }
   ],
   "source": [
    "menu = {\n",
    "    \"Dosa\": 120,\n",
    "    \"Tea\": 15,\n",
    "    \"Coffee\": 20,\n",
    "    \"Idli\": 50,\n",
    "    \"vada\": 40\n",
    "}\n",
    "bill = 0\n",
    "bill_details = {}\n",
    "\n",
    "print(\"WELCOME TO BCA CAFE\")\n",
    "for key in menu:\n",
    "    print(key.ljust(20), \"-\", menu[key])\n",
    "\n",
    "while True:\n",
    "    order = input(\"please enter the item or type DONE at END: \")\n",
    "    if order == \"DONE\":\n",
    "        break\n",
    "    elif order in menu:\n",
    "        quantity = int(input(\"enter quantity: \"))\n",
    "        bill_details[order] = quantity\n",
    "        bill += menu[order] * quantity\n",
    "    else:\n",
    "        print(\"please enter correct item:\")\n",
    "\n",
    "for item in bill_details:\n",
    "    item_cost = bill_details[item] * menu[item]\n",
    "    print(f\"{item.ljust(10)}\\t,{bill_details[item]}\\t,{item_cost}\")\n",
    "\n",
    "print(\"Your bill =\", bill)\n",
    "print(\"Bill with GST =\", bill + (18 / 100) * bill)"
   ]
  },
  {
   "cell_type": "code",
   "execution_count": null,
   "id": "3fbe297a-151d-421d-bf0b-7005230a256e",
   "metadata": {},
   "outputs": [],
   "source": []
  }
 ],
 "metadata": {
  "kernelspec": {
   "display_name": "Python 3 (ipykernel)",
   "language": "python",
   "name": "python3"
  },
  "language_info": {
   "codemirror_mode": {
    "name": "ipython",
    "version": 3
   },
   "file_extension": ".py",
   "mimetype": "text/x-python",
   "name": "python",
   "nbconvert_exporter": "python",
   "pygments_lexer": "ipython3",
   "version": "3.12.4"
  }
 },
 "nbformat": 4,
 "nbformat_minor": 5
}
